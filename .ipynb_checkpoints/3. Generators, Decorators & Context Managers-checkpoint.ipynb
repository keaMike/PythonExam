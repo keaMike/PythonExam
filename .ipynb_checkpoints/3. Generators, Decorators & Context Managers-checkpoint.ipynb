{
 "cells": [
  {
   "cell_type": "markdown",
   "metadata": {},
   "source": [
    "# Generators, Decorators & Context Managers"
   ]
  },
  {
   "cell_type": "markdown",
   "metadata": {},
   "source": [
    "### Generators"
   ]
  },
  {
   "cell_type": "code",
   "execution_count": 18,
   "metadata": {},
   "outputs": [],
   "source": [
    "def print_row_count(rows):\n",
    "    row_count = 0\n",
    "    \n",
    "    for row in rows:\n",
    "        row_count += 1\n",
    "\n",
    "    print(f'Row count is: {row_count}')"
   ]
  },
  {
   "cell_type": "markdown",
   "metadata": {},
   "source": [
    "###### Normal csv reader function"
   ]
  },
  {
   "cell_type": "code",
   "execution_count": 19,
   "metadata": {},
   "outputs": [
    {
     "name": "stdout",
     "output_type": "stream",
     "text": [
      "Row count is: 16812\n"
     ]
    }
   ],
   "source": [
    "def csv_reader(file_name):\n",
    "    file = open(file_name)\n",
    "    result = file.read().split('\\n')\n",
    "    return result\n",
    "\n",
    "print_row_count(csv_reader('data/nfl_elo.csv'))"
   ]
  },
  {
   "cell_type": "markdown",
   "metadata": {},
   "source": [
    "##### Generator function"
   ]
  },
  {
   "cell_type": "code",
   "execution_count": 20,
   "metadata": {},
   "outputs": [
    {
     "name": "stdout",
     "output_type": "stream",
     "text": [
      "Row count is: 16811\n"
     ]
    }
   ],
   "source": [
    "def csv_gen_reader(file_name):\n",
    "    for row in open(file_name, 'r'):\n",
    "        yield row\n",
    "\n",
    "print_row_count(csv_gen_reader('data/nfl_elo.csv'))"
   ]
  },
  {
   "cell_type": "markdown",
   "metadata": {},
   "source": [
    "##### Generator comprehension"
   ]
  },
  {
   "cell_type": "code",
   "execution_count": 21,
   "metadata": {},
   "outputs": [
    {
     "name": "stdout",
     "output_type": "stream",
     "text": [
      "Row count is: 16811\n"
     ]
    }
   ],
   "source": [
    "csv_gen = (row for row in open('data/nfl_elo.csv'))\n",
    "\n",
    "print_row_count(csv_gen)"
   ]
  },
  {
   "cell_type": "code",
   "execution_count": 22,
   "metadata": {},
   "outputs": [],
   "source": [
    "import time\n",
    "\n",
    "def timer(func):\n",
    "    def wrapper():\n",
    "        start = time.time()\n",
    "        func()\n",
    "        end = time.time()\n",
    "        result = end - start\n",
    "        print('Result: ' + str(result * 1000) + ' milliseconds')\n",
    "    return wrapper"
   ]
  },
  {
   "cell_type": "code",
   "execution_count": 23,
   "metadata": {},
   "outputs": [
    {
     "name": "stdout",
     "output_type": "stream",
     "text": [
      "Result: 35.01582145690918 milliseconds\n",
      "Result: 0.0 milliseconds\n"
     ]
    }
   ],
   "source": [
    "@timer\n",
    "def normal_csv_reader():\n",
    "    csv_reader('data/nfl_elo.csv')\n",
    "\n",
    "@timer\n",
    "def gen_csv_reader():\n",
    "    csv_gen_reader('data/nfl_elo.csv')\n",
    "\n",
    "normal_csv_reader()\n",
    "gen_csv_reader()"
   ]
  },
  {
   "cell_type": "code",
   "execution_count": 24,
   "metadata": {},
   "outputs": [],
   "source": [
    "csv_gen = (row for row in open('data/nfl_elo.csv'))"
   ]
  },
  {
   "cell_type": "code",
   "execution_count": 25,
   "metadata": {},
   "outputs": [
    {
     "data": {
      "text/plain": [
       "'date,season,neutral,playoff,team1,team2,elo1_pre,elo2_pre,elo_prob1,elo_prob2,elo1_post,elo2_post,qbelo1_pre,qbelo2_pre,qb1,qb2,qb1_value_pre,qb2_value_pre,qb1_adj,qb2_adj,qbelo_prob1,qbelo_prob2,qb1_game_value,qb2_game_value,qb1_value_post,qb2_value_post,qbelo1_post,qbelo2_post,score1,score2\\n'"
      ]
     },
     "execution_count": 25,
     "metadata": {},
     "output_type": "execute_result"
    }
   ],
   "source": [
    "next(csv_gen)"
   ]
  },
  {
   "cell_type": "code",
   "execution_count": 26,
   "metadata": {},
   "outputs": [
    {
     "data": {
      "text/plain": [
       "'1920-09-26,1920,0,,RII,STP,1503.947,1300.0,0.8246512009492516,0.1753487990507484,1516.108,1287.838,,,\"\",\"\",,,\"\",\"\",\"\",\"\",,,\"\",\"\",,,48,0\\n'"
      ]
     },
     "execution_count": 26,
     "metadata": {},
     "output_type": "execute_result"
    }
   ],
   "source": [
    "next(csv_gen)"
   ]
  },
  {
   "cell_type": "code",
   "execution_count": 27,
   "metadata": {},
   "outputs": [
    {
     "data": {
      "text/plain": [
       "'1920-10-03,1920,0,,RCH,ABU,1503.42,1300.0,0.8242120973373386,0.17578790266266142,1510.934,1292.486,,,\"\",\"\",,,\"\",\"\",\"\",\"\",,,\"\",\"\",,,10,0\\n'"
      ]
     },
     "execution_count": 27,
     "metadata": {},
     "output_type": "execute_result"
    }
   ],
   "source": [
    "next(csv_gen)"
   ]
  },
  {
   "cell_type": "markdown",
   "metadata": {},
   "source": [
    "### Decorators"
   ]
  },
  {
   "cell_type": "markdown",
   "metadata": {},
   "source": [
    "##### Syntax"
   ]
  },
  {
   "cell_type": "code",
   "execution_count": 28,
   "metadata": {},
   "outputs": [],
   "source": [
    "def my_decorator(func):\n",
    "    def wrapper():\n",
    "        print('Before function call...')\n",
    "        func()\n",
    "        print('After function call...')\n",
    "    return wrapper"
   ]
  },
  {
   "cell_type": "code",
   "execution_count": 29,
   "metadata": {},
   "outputs": [
    {
     "name": "stdout",
     "output_type": "stream",
     "text": [
      "Before function call...\n",
      "Hello World!\n",
      "After function call...\n"
     ]
    }
   ],
   "source": [
    "def hello():\n",
    "    print('Hello World!')\n",
    "    \n",
    "\n",
    "hello = my_decorator(hello)\n",
    "hello()"
   ]
  },
  {
   "cell_type": "markdown",
   "metadata": {},
   "source": [
    "##### Pie Syntax"
   ]
  },
  {
   "cell_type": "code",
   "execution_count": 30,
   "metadata": {},
   "outputs": [
    {
     "name": "stdout",
     "output_type": "stream",
     "text": [
      "Before function call...\n",
      "Hello World!\n",
      "After function call...\n"
     ]
    }
   ],
   "source": [
    "@my_decorator\n",
    "def hello():\n",
    "    print('Hello World!')\n",
    "    \n",
    "hello()"
   ]
  },
  {
   "cell_type": "code",
   "execution_count": 8,
   "metadata": {},
   "outputs": [],
   "source": [
    "def do_twice(func):\n",
    "    def wrapper():\n",
    "        func()\n",
    "        func()\n",
    "        \n",
    "    return wrapper"
   ]
  },
  {
   "cell_type": "code",
   "execution_count": 9,
   "metadata": {},
   "outputs": [
    {
     "name": "stdout",
     "output_type": "stream",
     "text": [
      "Hello World!\n",
      "Hello World!\n"
     ]
    }
   ],
   "source": [
    "@do_twice\n",
    "def hello():\n",
    "    print('Hello World!')\n",
    "    \n",
    "hello()"
   ]
  },
  {
   "cell_type": "code",
   "execution_count": 10,
   "metadata": {},
   "outputs": [
    {
     "ename": "TypeError",
     "evalue": "wrapper() takes 0 positional arguments but 1 was given",
     "output_type": "error",
     "traceback": [
      "\u001b[1;31m---------------------------------------------------------------------------\u001b[0m",
      "\u001b[1;31mTypeError\u001b[0m                                 Traceback (most recent call last)",
      "\u001b[1;32m<ipython-input-10-cbcc855bb022>\u001b[0m in \u001b[0;36m<module>\u001b[1;34m\u001b[0m\n\u001b[0;32m      3\u001b[0m     \u001b[0mprint\u001b[0m\u001b[1;33m(\u001b[0m\u001b[1;34mf'Hello {name}'\u001b[0m\u001b[1;33m)\u001b[0m\u001b[1;33m\u001b[0m\u001b[1;33m\u001b[0m\u001b[0m\n\u001b[0;32m      4\u001b[0m \u001b[1;33m\u001b[0m\u001b[0m\n\u001b[1;32m----> 5\u001b[1;33m \u001b[0mgreeting\u001b[0m\u001b[1;33m(\u001b[0m\u001b[1;34m'Mike'\u001b[0m\u001b[1;33m)\u001b[0m\u001b[1;33m\u001b[0m\u001b[1;33m\u001b[0m\u001b[0m\n\u001b[0m",
      "\u001b[1;31mTypeError\u001b[0m: wrapper() takes 0 positional arguments but 1 was given"
     ]
    }
   ],
   "source": [
    "@do_twice\n",
    "def greeting(name):\n",
    "    print(f'Hello {name}')\n",
    "    \n",
    "greeting('Mike')"
   ]
  },
  {
   "cell_type": "code",
   "execution_count": 11,
   "metadata": {},
   "outputs": [],
   "source": [
    "def do_twice(func):\n",
    "    def wrapper(*args, **kwargs):\n",
    "        func(*args, **kwargs)\n",
    "        func(*args, **kwargs)\n",
    "        \n",
    "    return wrapper"
   ]
  },
  {
   "cell_type": "code",
   "execution_count": 12,
   "metadata": {},
   "outputs": [
    {
     "name": "stdout",
     "output_type": "stream",
     "text": [
      "Hello Mike\n",
      "Hello Mike\n"
     ]
    }
   ],
   "source": [
    "@do_twice\n",
    "def greeting(name):\n",
    "    print(f'Hello {name}')\n",
    "    \n",
    "greeting('Mike')"
   ]
  },
  {
   "cell_type": "markdown",
   "metadata": {},
   "source": [
    "##### Usecase"
   ]
  },
  {
   "cell_type": "code",
   "execution_count": 13,
   "metadata": {},
   "outputs": [],
   "source": [
    "import time\n",
    "\n",
    "def timer(func):\n",
    "    def wrapper():\n",
    "        start = time.time()\n",
    "        func()\n",
    "        end = time.time()\n",
    "        result = end - start\n",
    "        print('Result: ' + str(result * 1000) + ' milliseconds')\n",
    "    return wrapper"
   ]
  },
  {
   "cell_type": "code",
   "execution_count": 14,
   "metadata": {},
   "outputs": [],
   "source": [
    "@timer\n",
    "def for_loop():\n",
    "    l = []\n",
    "    for i in range(1000000):\n",
    "        l.append(i)\n",
    "\n",
    "@timer\n",
    "def list_comprehension():\n",
    "    [i for i in range(1000000)]"
   ]
  },
  {
   "cell_type": "code",
   "execution_count": 16,
   "metadata": {},
   "outputs": [
    {
     "name": "stdout",
     "output_type": "stream",
     "text": [
      "Result: 138.22484016418457 milliseconds\n",
      "Result: 85.01076698303223 milliseconds\n"
     ]
    }
   ],
   "source": [
    "for_loop()\n",
    "list_comprehension()"
   ]
  },
  {
   "cell_type": "markdown",
   "metadata": {},
   "source": [
    "### Context Managers"
   ]
  },
  {
   "cell_type": "code",
   "execution_count": 26,
   "metadata": {},
   "outputs": [],
   "source": [
    "file_descriptors = [] \n",
    "for x in range('INDSÆT 1000000'): \n",
    "    file_descriptors.append(open('data/song.txt', 'w')) "
   ]
  },
  {
   "cell_type": "code",
   "execution_count": 4,
   "metadata": {},
   "outputs": [
    {
     "name": "stdout",
     "output_type": "stream",
     "text": [
      "Every night I hope and pray\n",
      "A dream lover will come my way\n",
      "A girl to hold in my arms\n",
      "And know the magic of her charms\n",
      "'Cause I want (yeah-yeah, yeah)\n",
      "A girl (yeah-yeah, yeah)\n",
      "To call (yeah-yeah, yeah)\n",
      "My own (yeah-yeah)\n",
      "I want a dream lover\n",
      "So I don't have to dream alone\n"
     ]
    }
   ],
   "source": [
    "f = open('data/song.txt', 'r')\n",
    "print(f.read())\n",
    "f.close()"
   ]
  },
  {
   "cell_type": "markdown",
   "metadata": {},
   "source": [
    "##### try / finally"
   ]
  },
  {
   "cell_type": "code",
   "execution_count": null,
   "metadata": {},
   "outputs": [],
   "source": [
    "try:\n",
    "    f = open('data/song.txt', 'r')\n",
    "    print(f.read())\n",
    "finally:\n",
    "    f.close()"
   ]
  },
  {
   "cell_type": "markdown",
   "metadata": {},
   "source": [
    "##### with keyword "
   ]
  },
  {
   "cell_type": "code",
   "execution_count": 5,
   "metadata": {},
   "outputs": [
    {
     "name": "stdout",
     "output_type": "stream",
     "text": [
      "Every night I hope and pray\n",
      "A dream lover will come my way\n",
      "A girl to hold in my arms\n",
      "And know the magic of her charms\n",
      "'Cause I want (yeah-yeah, yeah)\n",
      "A girl (yeah-yeah, yeah)\n",
      "To call (yeah-yeah, yeah)\n",
      "My own (yeah-yeah)\n",
      "I want a dream lover\n",
      "So I don't have to dream alone\n"
     ]
    }
   ],
   "source": [
    "with open('data/song.txt', 'r') as f:\n",
    "    print(f.read())"
   ]
  },
  {
   "cell_type": "markdown",
   "metadata": {},
   "source": [
    "##### Custom Context Manager"
   ]
  },
  {
   "cell_type": "code",
   "execution_count": 6,
   "metadata": {},
   "outputs": [
    {
     "name": "stdout",
     "output_type": "stream",
     "text": [
      "Enter song text\n",
      "Every night I hope and pray\n",
      "A dream lover will come my way\n",
      "A girl to hold in my arms\n",
      "And know the magic of her charms\n",
      "'Cause I want (yeah-yeah, yeah)\n",
      "A girl (yeah-yeah, yeah)\n",
      "To call (yeah-yeah, yeah)\n",
      "My own (yeah-yeah)\n",
      "I want a dream lover\n",
      "So I don't have to dream alone\n",
      "Close song text\n"
     ]
    }
   ],
   "source": [
    "class OpenFile():\n",
    "    def __init__(self, filename, mode):\n",
    "        self.filename = filename\n",
    "        self.mode = mode\n",
    "\n",
    "    def __enter__(self):\n",
    "        print('Enter song text')\n",
    "        self.file = open(self.filename, self.mode)\n",
    "        return self.file\n",
    "\n",
    "    def __exit__(self, *args):\n",
    "        print('Close song text')\n",
    "        self.file.close()\n",
    "\n",
    "\n",
    "with OpenFile('data/song.txt', 'r') as f:\n",
    "    print(f.read())"
   ]
  },
  {
   "cell_type": "markdown",
   "metadata": {},
   "source": [
    "##### contextlib"
   ]
  },
  {
   "cell_type": "code",
   "execution_count": 7,
   "metadata": {},
   "outputs": [
    {
     "name": "stdout",
     "output_type": "stream",
     "text": [
      "Every night I hope and pray\n",
      "A dream lover will come my way\n",
      "A girl to hold in my arms\n",
      "And know the magic of her charms\n",
      "'Cause I want (yeah-yeah, yeah)\n",
      "A girl (yeah-yeah, yeah)\n",
      "To call (yeah-yeah, yeah)\n",
      "My own (yeah-yeah)\n",
      "I want a dream lover\n",
      "So I don't have to dream alone\n"
     ]
    }
   ],
   "source": [
    "from contextlib import contextmanager\n",
    "\n",
    "@contextmanager\n",
    "def open_file(filename, mode):\n",
    "    f = open(filename, mode)\n",
    "    try:\n",
    "        yield f\n",
    "    finally:\n",
    "        f.close()\n",
    "\n",
    "\n",
    "with open_file('data/song.txt', 'r') as f:\n",
    "    print(f.read())"
   ]
  },
  {
   "cell_type": "markdown",
   "metadata": {},
   "source": [
    "##### Usecase"
   ]
  },
  {
   "cell_type": "code",
   "execution_count": null,
   "metadata": {},
   "outputs": [],
   "source": [
    "class DBConnectionManager(): \n",
    "    def __init__(self, hostname, port): \n",
    "        self.hostname = hostname \n",
    "        self.port = port \n",
    "        self.connection = None\n",
    "  \n",
    "    def __enter__(self): \n",
    "        self.connection = # Connect to DB\n",
    "        return self\n",
    "  \n",
    "    def __exit__(selfk): \n",
    "        self.connection.close() \n",
    "    \n",
    "with DBConnectionManager('localhost', '27017') as db: \n",
    "    query_string = 'SELECT * FROM users' \n",
    "    data = db.query(query_string) \n",
    "    print(data) "
   ]
  }
 ],
 "metadata": {
  "kernelspec": {
   "display_name": "Python 3",
   "language": "python",
   "name": "python3"
  },
  "language_info": {
   "codemirror_mode": {
    "name": "ipython",
    "version": 3
   },
   "file_extension": ".py",
   "mimetype": "text/x-python",
   "name": "python",
   "nbconvert_exporter": "python",
   "pygments_lexer": "ipython3",
   "version": "3.8.2"
  }
 },
 "nbformat": 4,
 "nbformat_minor": 4
}
